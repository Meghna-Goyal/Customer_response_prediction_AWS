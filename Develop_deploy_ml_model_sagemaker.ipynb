{
 "cells": [
  {
   "cell_type": "markdown",
   "id": "ad32954f",
   "metadata": {},
   "source": [
    "Importing Important Libraries\n",
    "\n",
    "Steps To Be Followed\n",
    "\n",
    "Importing necessary Libraries\n",
    "Creating S3 bucket\n",
    "Mapping train And Test Data in S3\n",
    "Mapping The path of the models in S3"
   ]
  },
  {
   "cell_type": "code",
   "execution_count": 1,
   "id": "6b6eb76b",
   "metadata": {},
   "outputs": [],
   "source": [
    "import sagemaker\n",
    "import boto3\n",
    "from sagemaker.amazon.amazon_estimator import get_image_uri \n",
    "from sagemaker.session import s3_input, Session"
   ]
  },
  {
   "cell_type": "code",
   "execution_count": 4,
   "id": "f0ae33f0",
   "metadata": {},
   "outputs": [
    {
     "name": "stdout",
     "output_type": "stream",
     "text": [
      "us-east-1\n"
     ]
    }
   ],
   "source": [
    "bucket_name = 'mlprojsagemakerdemo' # <--- CHANGE THIS VARIABLE TO A UNIQUE NAME FOR YOUR BUCKET\n",
    "my_region = boto3.session.Session().region_name # set the region of the instance\n",
    "print(my_region)"
   ]
  },
  {
   "cell_type": "code",
   "execution_count": 5,
   "id": "e059528a",
   "metadata": {},
   "outputs": [
    {
     "name": "stdout",
     "output_type": "stream",
     "text": [
      "S3 bucket created successfully\n"
     ]
    }
   ],
   "source": [
    "s3 = boto3.resource('s3')\n",
    "try:\n",
    "    if  my_region == 'us-east-1':\n",
    "        s3.create_bucket(Bucket=bucket_name)\n",
    "    print('S3 bucket created successfully')\n",
    "except Exception as e:\n",
    "    print('S3 error: ',e)"
   ]
  },
  {
   "cell_type": "code",
   "execution_count": 6,
   "id": "1adbfae7",
   "metadata": {},
   "outputs": [
    {
     "name": "stdout",
     "output_type": "stream",
     "text": [
      "s3://mlprojsagemakerdemo/xgboost-as-a-built-in-algo/output\n"
     ]
    }
   ],
   "source": [
    "# set an output path where the trained model will be saved\n",
    "prefix = 'xgboost-as-a-built-in-algo'\n",
    "output_path ='s3://{}/{}/output'.format(bucket_name, prefix)\n",
    "print(output_path)"
   ]
  },
  {
   "cell_type": "code",
   "execution_count": 7,
   "id": "2b444a38",
   "metadata": {},
   "outputs": [
    {
     "name": "stdout",
     "output_type": "stream",
     "text": [
      "Success: downloaded bank_clean.csv.\n",
      "Success: Data loaded into dataframe.\n"
     ]
    }
   ],
   "source": [
    "import pandas as pd\n",
    "import urllib\n",
    "try:\n",
    "    urllib.request.urlretrieve (\"https://d1.awsstatic.com/tmt/build-train-deploy-machine-learning-model-sagemaker/bank_clean.27f01fbbdf43271788427f3682996ae29ceca05d.csv\", \"bank_clean.csv\")\n",
    "    print('Success: downloaded bank_clean.csv.')\n",
    "except Exception as e:\n",
    "    print('Data load error: ',e)\n",
    "\n",
    "try:\n",
    "    model_data = pd.read_csv('./bank_clean.csv',index_col=0)\n",
    "    print('Success: Data loaded into dataframe.')\n",
    "except Exception as e:\n",
    "    print('Data load error: ',e)"
   ]
  },
  {
   "cell_type": "code",
   "execution_count": 8,
   "id": "4b876998",
   "metadata": {},
   "outputs": [
    {
     "name": "stdout",
     "output_type": "stream",
     "text": [
      "(28831, 61) (12357, 61)\n"
     ]
    }
   ],
   "source": [
    "### Train Test split\n",
    "\n",
    "import numpy as np\n",
    "train_data, test_data = np.split(model_data.sample(frac=1, random_state=1729), [int(0.7 * len(model_data))])\n",
    "print(train_data.shape, test_data.shape)"
   ]
  },
  {
   "cell_type": "code",
   "execution_count": 16,
   "id": "0ee1368b",
   "metadata": {},
   "outputs": [
    {
     "name": "stderr",
     "output_type": "stream",
     "text": [
      "The class sagemaker.session.s3_input has been renamed in sagemaker>=2.\n",
      "See: https://sagemaker.readthedocs.io/en/stable/v2.html for details.\n"
     ]
    }
   ],
   "source": [
    "### Saving Train And Test Into Buckets\n",
    "## We start with Train Data\n",
    "import os\n",
    "pd.concat([train_data['y_yes'], train_data.drop(['y_no', 'y_yes'], \n",
    "                                                axis=1)], \n",
    "                                                axis=1).to_csv('train.csv', index=False, header=False)\n",
    "boto3.Session().resource('s3').Bucket(bucket_name).Object(os.path.join(prefix, 'train/train.csv')).upload_file('train.csv')\n",
    "s3_input_train = s3_input(s3_data='s3://{}/{}/train'.format(bucket_name, prefix), content_type='csv')"
   ]
  },
  {
   "cell_type": "code",
   "execution_count": 10,
   "id": "ef13ba5e",
   "metadata": {},
   "outputs": [
    {
     "data": {
      "text/plain": [
       "['_PY_TO_OP_NAME',\n",
       " '__class__',\n",
       " '__delattr__',\n",
       " '__dict__',\n",
       " '__dir__',\n",
       " '__doc__',\n",
       " '__eq__',\n",
       " '__format__',\n",
       " '__ge__',\n",
       " '__getattr__',\n",
       " '__getattribute__',\n",
       " '__gt__',\n",
       " '__hash__',\n",
       " '__init__',\n",
       " '__init_subclass__',\n",
       " '__le__',\n",
       " '__lt__',\n",
       " '__module__',\n",
       " '__ne__',\n",
       " '__new__',\n",
       " '__reduce__',\n",
       " '__reduce_ex__',\n",
       " '__repr__',\n",
       " '__setattr__',\n",
       " '__sizeof__',\n",
       " '__str__',\n",
       " '__subclasshook__',\n",
       " '__weakref__',\n",
       " '_cache',\n",
       " '_client_config',\n",
       " '_convert_to_request_dict',\n",
       " '_emit_api_params',\n",
       " '_endpoint',\n",
       " '_exceptions',\n",
       " '_exceptions_factory',\n",
       " '_get_waiter_config',\n",
       " '_load_exceptions',\n",
       " '_loader',\n",
       " '_make_api_call',\n",
       " '_make_request',\n",
       " '_register_handlers',\n",
       " '_request_signer',\n",
       " '_response_parser',\n",
       " '_serializer',\n",
       " '_service_model',\n",
       " 'add_association',\n",
       " 'add_tags',\n",
       " 'associate_trial_component',\n",
       " 'batch_describe_model_package',\n",
       " 'can_paginate',\n",
       " 'create_action',\n",
       " 'create_algorithm',\n",
       " 'create_app',\n",
       " 'create_app_image_config',\n",
       " 'create_artifact',\n",
       " 'create_auto_ml_job',\n",
       " 'create_code_repository',\n",
       " 'create_compilation_job',\n",
       " 'create_context',\n",
       " 'create_data_quality_job_definition',\n",
       " 'create_device_fleet',\n",
       " 'create_domain',\n",
       " 'create_edge_packaging_job',\n",
       " 'create_endpoint',\n",
       " 'create_endpoint_config',\n",
       " 'create_experiment',\n",
       " 'create_feature_group',\n",
       " 'create_flow_definition',\n",
       " 'create_human_task_ui',\n",
       " 'create_hyper_parameter_tuning_job',\n",
       " 'create_image',\n",
       " 'create_image_version',\n",
       " 'create_labeling_job',\n",
       " 'create_model',\n",
       " 'create_model_bias_job_definition',\n",
       " 'create_model_explainability_job_definition',\n",
       " 'create_model_package',\n",
       " 'create_model_package_group',\n",
       " 'create_model_quality_job_definition',\n",
       " 'create_monitoring_schedule',\n",
       " 'create_notebook_instance',\n",
       " 'create_notebook_instance_lifecycle_config',\n",
       " 'create_pipeline',\n",
       " 'create_presigned_domain_url',\n",
       " 'create_presigned_notebook_instance_url',\n",
       " 'create_processing_job',\n",
       " 'create_project',\n",
       " 'create_studio_lifecycle_config',\n",
       " 'create_training_job',\n",
       " 'create_transform_job',\n",
       " 'create_trial',\n",
       " 'create_trial_component',\n",
       " 'create_user_profile',\n",
       " 'create_workforce',\n",
       " 'create_workteam',\n",
       " 'delete_action',\n",
       " 'delete_algorithm',\n",
       " 'delete_app',\n",
       " 'delete_app_image_config',\n",
       " 'delete_artifact',\n",
       " 'delete_association',\n",
       " 'delete_code_repository',\n",
       " 'delete_context',\n",
       " 'delete_data_quality_job_definition',\n",
       " 'delete_device_fleet',\n",
       " 'delete_domain',\n",
       " 'delete_endpoint',\n",
       " 'delete_endpoint_config',\n",
       " 'delete_experiment',\n",
       " 'delete_feature_group',\n",
       " 'delete_flow_definition',\n",
       " 'delete_human_task_ui',\n",
       " 'delete_image',\n",
       " 'delete_image_version',\n",
       " 'delete_model',\n",
       " 'delete_model_bias_job_definition',\n",
       " 'delete_model_explainability_job_definition',\n",
       " 'delete_model_package',\n",
       " 'delete_model_package_group',\n",
       " 'delete_model_package_group_policy',\n",
       " 'delete_model_quality_job_definition',\n",
       " 'delete_monitoring_schedule',\n",
       " 'delete_notebook_instance',\n",
       " 'delete_notebook_instance_lifecycle_config',\n",
       " 'delete_pipeline',\n",
       " 'delete_project',\n",
       " 'delete_studio_lifecycle_config',\n",
       " 'delete_tags',\n",
       " 'delete_trial',\n",
       " 'delete_trial_component',\n",
       " 'delete_user_profile',\n",
       " 'delete_workforce',\n",
       " 'delete_workteam',\n",
       " 'deregister_devices',\n",
       " 'describe_action',\n",
       " 'describe_algorithm',\n",
       " 'describe_app',\n",
       " 'describe_app_image_config',\n",
       " 'describe_artifact',\n",
       " 'describe_auto_ml_job',\n",
       " 'describe_code_repository',\n",
       " 'describe_compilation_job',\n",
       " 'describe_context',\n",
       " 'describe_data_quality_job_definition',\n",
       " 'describe_device',\n",
       " 'describe_device_fleet',\n",
       " 'describe_domain',\n",
       " 'describe_edge_packaging_job',\n",
       " 'describe_endpoint',\n",
       " 'describe_endpoint_config',\n",
       " 'describe_experiment',\n",
       " 'describe_feature_group',\n",
       " 'describe_flow_definition',\n",
       " 'describe_human_task_ui',\n",
       " 'describe_hyper_parameter_tuning_job',\n",
       " 'describe_image',\n",
       " 'describe_image_version',\n",
       " 'describe_labeling_job',\n",
       " 'describe_model',\n",
       " 'describe_model_bias_job_definition',\n",
       " 'describe_model_explainability_job_definition',\n",
       " 'describe_model_package',\n",
       " 'describe_model_package_group',\n",
       " 'describe_model_quality_job_definition',\n",
       " 'describe_monitoring_schedule',\n",
       " 'describe_notebook_instance',\n",
       " 'describe_notebook_instance_lifecycle_config',\n",
       " 'describe_pipeline',\n",
       " 'describe_pipeline_definition_for_execution',\n",
       " 'describe_pipeline_execution',\n",
       " 'describe_processing_job',\n",
       " 'describe_project',\n",
       " 'describe_studio_lifecycle_config',\n",
       " 'describe_subscribed_workteam',\n",
       " 'describe_training_job',\n",
       " 'describe_transform_job',\n",
       " 'describe_trial',\n",
       " 'describe_trial_component',\n",
       " 'describe_user_profile',\n",
       " 'describe_workforce',\n",
       " 'describe_workteam',\n",
       " 'disable_sagemaker_servicecatalog_portfolio',\n",
       " 'disassociate_trial_component',\n",
       " 'enable_sagemaker_servicecatalog_portfolio',\n",
       " 'exceptions',\n",
       " 'generate_presigned_url',\n",
       " 'get_device_fleet_report',\n",
       " 'get_model_package_group_policy',\n",
       " 'get_paginator',\n",
       " 'get_sagemaker_servicecatalog_portfolio_status',\n",
       " 'get_search_suggestions',\n",
       " 'get_waiter',\n",
       " 'list_actions',\n",
       " 'list_algorithms',\n",
       " 'list_app_image_configs',\n",
       " 'list_apps',\n",
       " 'list_artifacts',\n",
       " 'list_associations',\n",
       " 'list_auto_ml_jobs',\n",
       " 'list_candidates_for_auto_ml_job',\n",
       " 'list_code_repositories',\n",
       " 'list_compilation_jobs',\n",
       " 'list_contexts',\n",
       " 'list_data_quality_job_definitions',\n",
       " 'list_device_fleets',\n",
       " 'list_devices',\n",
       " 'list_domains',\n",
       " 'list_edge_packaging_jobs',\n",
       " 'list_endpoint_configs',\n",
       " 'list_endpoints',\n",
       " 'list_experiments',\n",
       " 'list_feature_groups',\n",
       " 'list_flow_definitions',\n",
       " 'list_human_task_uis',\n",
       " 'list_hyper_parameter_tuning_jobs',\n",
       " 'list_image_versions',\n",
       " 'list_images',\n",
       " 'list_labeling_jobs',\n",
       " 'list_labeling_jobs_for_workteam',\n",
       " 'list_model_bias_job_definitions',\n",
       " 'list_model_explainability_job_definitions',\n",
       " 'list_model_package_groups',\n",
       " 'list_model_packages',\n",
       " 'list_model_quality_job_definitions',\n",
       " 'list_models',\n",
       " 'list_monitoring_executions',\n",
       " 'list_monitoring_schedules',\n",
       " 'list_notebook_instance_lifecycle_configs',\n",
       " 'list_notebook_instances',\n",
       " 'list_pipeline_execution_steps',\n",
       " 'list_pipeline_executions',\n",
       " 'list_pipeline_parameters_for_execution',\n",
       " 'list_pipelines',\n",
       " 'list_processing_jobs',\n",
       " 'list_projects',\n",
       " 'list_studio_lifecycle_configs',\n",
       " 'list_subscribed_workteams',\n",
       " 'list_tags',\n",
       " 'list_training_jobs',\n",
       " 'list_training_jobs_for_hyper_parameter_tuning_job',\n",
       " 'list_transform_jobs',\n",
       " 'list_trial_components',\n",
       " 'list_trials',\n",
       " 'list_user_profiles',\n",
       " 'list_workforces',\n",
       " 'list_workteams',\n",
       " 'meta',\n",
       " 'put_model_package_group_policy',\n",
       " 'register_devices',\n",
       " 'render_ui_template',\n",
       " 'retry_pipeline_execution',\n",
       " 'search',\n",
       " 'send_pipeline_execution_step_failure',\n",
       " 'send_pipeline_execution_step_success',\n",
       " 'start_monitoring_schedule',\n",
       " 'start_notebook_instance',\n",
       " 'start_pipeline_execution',\n",
       " 'stop_auto_ml_job',\n",
       " 'stop_compilation_job',\n",
       " 'stop_edge_packaging_job',\n",
       " 'stop_hyper_parameter_tuning_job',\n",
       " 'stop_labeling_job',\n",
       " 'stop_monitoring_schedule',\n",
       " 'stop_notebook_instance',\n",
       " 'stop_pipeline_execution',\n",
       " 'stop_processing_job',\n",
       " 'stop_training_job',\n",
       " 'stop_transform_job',\n",
       " 'update_action',\n",
       " 'update_app_image_config',\n",
       " 'update_artifact',\n",
       " 'update_code_repository',\n",
       " 'update_context',\n",
       " 'update_device_fleet',\n",
       " 'update_devices',\n",
       " 'update_domain',\n",
       " 'update_endpoint',\n",
       " 'update_endpoint_weights_and_capacities',\n",
       " 'update_experiment',\n",
       " 'update_image',\n",
       " 'update_model_package',\n",
       " 'update_monitoring_schedule',\n",
       " 'update_notebook_instance',\n",
       " 'update_notebook_instance_lifecycle_config',\n",
       " 'update_pipeline',\n",
       " 'update_pipeline_execution',\n",
       " 'update_project',\n",
       " 'update_training_job',\n",
       " 'update_trial',\n",
       " 'update_trial_component',\n",
       " 'update_user_profile',\n",
       " 'update_workforce',\n",
       " 'update_workteam',\n",
       " 'waiter_names']"
      ]
     },
     "execution_count": 10,
     "metadata": {},
     "output_type": "execute_result"
    }
   ],
   "source": [
    "sagemaker = boto3.client('sagemaker')\n",
    "dir(sagemaker)"
   ]
  },
  {
   "cell_type": "code",
   "execution_count": 17,
   "id": "85506446",
   "metadata": {},
   "outputs": [
    {
     "name": "stderr",
     "output_type": "stream",
     "text": [
      "The class sagemaker.session.s3_input has been renamed in sagemaker>=2.\n",
      "See: https://sagemaker.readthedocs.io/en/stable/v2.html for details.\n"
     ]
    }
   ],
   "source": [
    "# Test Data Into Buckets\n",
    "pd.concat([test_data['y_yes'], test_data.drop(['y_no', 'y_yes'], axis=1)], axis=1).to_csv('test.csv', index=False, header=False)\n",
    "boto3.Session().resource('s3').Bucket(bucket_name).Object(os.path.join(prefix, 'test/test.csv')).upload_file('test.csv')\n",
    "s3_input_test = s3_input(s3_data='s3://{}/{}/test'.format(bucket_name, prefix), content_type='csv')"
   ]
  },
  {
   "cell_type": "markdown",
   "id": "aabe955a",
   "metadata": {},
   "source": [
    "Building Models Xgboot- Inbuilt Algorithm"
   ]
  },
  {
   "cell_type": "code",
   "execution_count": 18,
   "id": "4630a2f1",
   "metadata": {},
   "outputs": [
    {
     "name": "stderr",
     "output_type": "stream",
     "text": [
      "The method get_image_uri has been renamed in sagemaker>=2.\n",
      "See: https://sagemaker.readthedocs.io/en/stable/v2.html for details.\n"
     ]
    }
   ],
   "source": [
    "# this line automatically looks for the XGBoost image URI and builds an XGBoost container.\n",
    "# specify the repo_version depending on your preference.\n",
    "container = get_image_uri(boto3.Session().region_name,\n",
    "                          'xgboost', \n",
    "                          repo_version='1.0-1')"
   ]
  },
  {
   "cell_type": "code",
   "execution_count": 19,
   "id": "bba24477",
   "metadata": {},
   "outputs": [],
   "source": [
    "# initialize hyperparameters\n",
    "hyperparameters = {\n",
    "        \"max_depth\":\"5\",\n",
    "        \"eta\":\"0.2\",\n",
    "        \"gamma\":\"4\",\n",
    "        \"min_child_weight\":\"6\",\n",
    "        \"subsample\":\"0.7\",\n",
    "        \"objective\":\"binary:logistic\",\n",
    "        \"num_round\":50\n",
    "        }"
   ]
  },
  {
   "cell_type": "code",
   "execution_count": 25,
   "id": "a105e170",
   "metadata": {},
   "outputs": [],
   "source": [
    "from sagemaker import estimator, get_execution_role"
   ]
  },
  {
   "cell_type": "code",
   "execution_count": 29,
   "id": "47ad0b9b",
   "metadata": {},
   "outputs": [
    {
     "name": "stderr",
     "output_type": "stream",
     "text": [
      "train_instance_count has been renamed in sagemaker>=2.\n",
      "See: https://sagemaker.readthedocs.io/en/stable/v2.html for details.\n",
      "train_instance_type has been renamed in sagemaker>=2.\n",
      "See: https://sagemaker.readthedocs.io/en/stable/v2.html for details.\n",
      "train_max_run has been renamed in sagemaker>=2.\n",
      "See: https://sagemaker.readthedocs.io/en/stable/v2.html for details.\n",
      "train_use_spot_instances has been renamed in sagemaker>=2.\n",
      "See: https://sagemaker.readthedocs.io/en/stable/v2.html for details.\n",
      "train_max_wait has been renamed in sagemaker>=2.\n",
      "See: https://sagemaker.readthedocs.io/en/stable/v2.html for details.\n",
      "train_volume_size has been renamed in sagemaker>=2.\n",
      "See: https://sagemaker.readthedocs.io/en/stable/v2.html for details.\n"
     ]
    }
   ],
   "source": [
    "# construct a SageMaker estimator that calls the xgboost-container\n",
    "estimator = estimator.Estimator(image_uri=container, \n",
    "                                          hyperparameters=hyperparameters,\n",
    "                                          role=get_execution_role(),\n",
    "                                          train_instance_count=1, \n",
    "                                          train_instance_type='ml.m5.2xlarge', \n",
    "                                          train_volume_size=5, # 5 GB \n",
    "                                          output_path=output_path,\n",
    "                                          train_use_spot_instances=True,\n",
    "                                          train_max_run=300,\n",
    "                                          train_max_wait=600)"
   ]
  },
  {
   "cell_type": "code",
   "execution_count": 30,
   "id": "4dbaa578",
   "metadata": {},
   "outputs": [
    {
     "name": "stdout",
     "output_type": "stream",
     "text": [
      "2021-12-04 13:06:20 Starting - Starting the training job...\n",
      "2021-12-04 13:06:45 Starting - Launching requested ML instancesProfilerReport-1638623180: InProgress\n",
      "......\n",
      "2021-12-04 13:07:45 Starting - Preparing the instances for training......\n",
      "2021-12-04 13:08:48 Downloading - Downloading input data...\n",
      "2021-12-04 13:09:17 Training - Downloading the training image...\n",
      "2021-12-04 13:09:46 Uploading - Uploading generated training model\n",
      "2021-12-04 13:09:46 Completed - Training job completed\n",
      "\u001b[34mINFO:sagemaker-containers:Imported framework sagemaker_xgboost_container.training\u001b[0m\n",
      "\u001b[34mINFO:sagemaker-containers:Failed to parse hyperparameter objective value binary:logistic to Json.\u001b[0m\n",
      "\u001b[34mReturning the value itself\u001b[0m\n",
      "\u001b[34mINFO:sagemaker-containers:No GPUs detected (normal if no gpus installed)\u001b[0m\n",
      "\u001b[34mINFO:sagemaker_xgboost_container.training:Running XGBoost Sagemaker in algorithm mode\u001b[0m\n",
      "\u001b[34mINFO:root:Determined delimiter of CSV input is ','\u001b[0m\n",
      "\u001b[34mINFO:root:Determined delimiter of CSV input is ','\u001b[0m\n",
      "\u001b[34mINFO:root:Determined delimiter of CSV input is ','\u001b[0m\n",
      "\u001b[34m[13:09:34] 28831x59 matrix with 1701029 entries loaded from /opt/ml/input/data/train?format=csv&label_column=0&delimiter=,\u001b[0m\n",
      "\u001b[34mINFO:root:Determined delimiter of CSV input is ','\u001b[0m\n",
      "\u001b[34m[13:09:34] 12357x59 matrix with 729063 entries loaded from /opt/ml/input/data/validation?format=csv&label_column=0&delimiter=,\u001b[0m\n",
      "\u001b[34mINFO:root:Single node training.\u001b[0m\n",
      "\u001b[34mINFO:root:Train matrix has 28831 rows\u001b[0m\n",
      "\u001b[34mINFO:root:Validation matrix has 12357 rows\u001b[0m\n",
      "\u001b[34m[13:09:34] WARNING: /workspace/src/learner.cc:328: \u001b[0m\n",
      "\u001b[34mParameters: { num_round } might not be used.\n",
      "  This may not be accurate due to some parameters are only used in language bindings but\n",
      "  passed down to XGBoost core.  Or some parameters are not used but slip through this\n",
      "  verification. Please open an issue if you find above cases.\u001b[0m\n",
      "\u001b[34m[0]#011train-error:0.10079#011validation-error:0.10528\u001b[0m\n",
      "\u001b[34m[1]#011train-error:0.09968#011validation-error:0.10456\u001b[0m\n",
      "\u001b[34m[2]#011train-error:0.10017#011validation-error:0.10375\u001b[0m\n",
      "\u001b[34m[3]#011train-error:0.09989#011validation-error:0.10310\u001b[0m\n",
      "\u001b[34m[4]#011train-error:0.09996#011validation-error:0.10286\u001b[0m\n",
      "\u001b[34m[5]#011train-error:0.09906#011validation-error:0.10261\u001b[0m\n",
      "\u001b[34m[6]#011train-error:0.09930#011validation-error:0.10286\u001b[0m\n",
      "\u001b[34m[7]#011train-error:0.09951#011validation-error:0.10261\u001b[0m\n",
      "\u001b[34m[8]#011train-error:0.09920#011validation-error:0.10286\u001b[0m\n",
      "\u001b[34m[9]#011train-error:0.09871#011validation-error:0.10294\u001b[0m\n",
      "\u001b[34m[10]#011train-error:0.09868#011validation-error:0.10294\u001b[0m\n",
      "\u001b[34m[11]#011train-error:0.09868#011validation-error:0.10326\u001b[0m\n",
      "\u001b[34m[12]#011train-error:0.09854#011validation-error:0.10358\u001b[0m\n",
      "\u001b[34m[13]#011train-error:0.09892#011validation-error:0.10342\u001b[0m\n",
      "\u001b[34m[14]#011train-error:0.09850#011validation-error:0.10342\u001b[0m\n",
      "\u001b[34m[15]#011train-error:0.09844#011validation-error:0.10326\u001b[0m\n",
      "\u001b[34m[16]#011train-error:0.09857#011validation-error:0.10318\u001b[0m\n",
      "\u001b[34m[17]#011train-error:0.09799#011validation-error:0.10318\u001b[0m\n",
      "\u001b[34m[18]#011train-error:0.09816#011validation-error:0.10383\u001b[0m\n",
      "\u001b[34m[19]#011train-error:0.09857#011validation-error:0.10383\u001b[0m\n",
      "\u001b[34m[20]#011train-error:0.09830#011validation-error:0.10350\u001b[0m\n",
      "\u001b[34m[21]#011train-error:0.09826#011validation-error:0.10318\u001b[0m\n",
      "\u001b[34m[22]#011train-error:0.09847#011validation-error:0.10399\u001b[0m\n",
      "\u001b[34m[23]#011train-error:0.09833#011validation-error:0.10407\u001b[0m\n",
      "\u001b[34m[24]#011train-error:0.09812#011validation-error:0.10415\u001b[0m\n",
      "\u001b[34m[25]#011train-error:0.09812#011validation-error:0.10399\u001b[0m\n",
      "\u001b[34m[26]#011train-error:0.09774#011validation-error:0.10375\u001b[0m\n",
      "\u001b[34m[27]#011train-error:0.09781#011validation-error:0.10375\u001b[0m\n",
      "\u001b[34m[28]#011train-error:0.09781#011validation-error:0.10391\u001b[0m\n",
      "\u001b[34m[29]#011train-error:0.09778#011validation-error:0.10367\u001b[0m\n",
      "\u001b[34m[30]#011train-error:0.09781#011validation-error:0.10383\u001b[0m\n",
      "\u001b[34m[31]#011train-error:0.09771#011validation-error:0.10358\u001b[0m\n",
      "\u001b[34m[32]#011train-error:0.09743#011validation-error:0.10391\u001b[0m\n",
      "\u001b[34m[33]#011train-error:0.09753#011validation-error:0.10342\u001b[0m\n",
      "\u001b[34m[34]#011train-error:0.09767#011validation-error:0.10342\u001b[0m\n",
      "\u001b[34m[35]#011train-error:0.09757#011validation-error:0.10350\u001b[0m\n",
      "\u001b[34m[36]#011train-error:0.09757#011validation-error:0.10342\u001b[0m\n",
      "\u001b[34m[37]#011train-error:0.09736#011validation-error:0.10342\u001b[0m\n",
      "\u001b[34m[38]#011train-error:0.09750#011validation-error:0.10342\u001b[0m\n",
      "\u001b[34m[39]#011train-error:0.09733#011validation-error:0.10350\u001b[0m\n",
      "\u001b[34m[40]#011train-error:0.09705#011validation-error:0.10358\u001b[0m\n",
      "\u001b[34m[41]#011train-error:0.09701#011validation-error:0.10383\u001b[0m\n",
      "\u001b[34m[42]#011train-error:0.09712#011validation-error:0.10407\u001b[0m\n",
      "\u001b[34m[43]#011train-error:0.09698#011validation-error:0.10375\u001b[0m\n",
      "\u001b[34m[44]#011train-error:0.09733#011validation-error:0.10342\u001b[0m\n",
      "\u001b[34m[45]#011train-error:0.09736#011validation-error:0.10367\u001b[0m\n",
      "\u001b[34m[46]#011train-error:0.09746#011validation-error:0.10350\u001b[0m\n",
      "\u001b[34m[47]#011train-error:0.09736#011validation-error:0.10358\u001b[0m\n",
      "\u001b[34m[48]#011train-error:0.09712#011validation-error:0.10334\u001b[0m\n",
      "\u001b[34m[49]#011train-error:0.09712#011validation-error:0.10318\u001b[0m\n",
      "Training seconds: 58\n",
      "Billable seconds: 30\n",
      "Managed Spot Training savings: 48.3%\n"
     ]
    }
   ],
   "source": [
    "estimator.fit({'train': s3_input_train,'validation': s3_input_test})"
   ]
  },
  {
   "cell_type": "markdown",
   "id": "91db60af",
   "metadata": {},
   "source": [
    "Deploy Machine Learning Model As Endpoints"
   ]
  },
  {
   "cell_type": "code",
   "execution_count": 31,
   "id": "398cd950",
   "metadata": {},
   "outputs": [
    {
     "name": "stdout",
     "output_type": "stream",
     "text": [
      "------!"
     ]
    }
   ],
   "source": [
    "xgb_predictor = estimator.deploy(initial_instance_count=1,instance_type='ml.m4.xlarge')"
   ]
  },
  {
   "cell_type": "markdown",
   "id": "b1e59282",
   "metadata": {},
   "source": [
    "Prediction of the Test Data"
   ]
  },
  {
   "cell_type": "code",
   "execution_count": 39,
   "id": "afd2ac84",
   "metadata": {},
   "outputs": [
    {
     "name": "stderr",
     "output_type": "stream",
     "text": [
      "The csv_serializer has been renamed in sagemaker>=2.\n",
      "See: https://sagemaker.readthedocs.io/en/stable/v2.html for details.\n"
     ]
    },
    {
     "name": "stdout",
     "output_type": "stream",
     "text": [
      "(12357,)\n"
     ]
    }
   ],
   "source": [
    "from sagemaker.predictor import csv_serializer\n",
    "test_data_array = test_data.drop(['y_no', 'y_yes'], axis=1).values #load the data into an array\n",
    "#xgb_predictor.content_type = 'text/csv' # set the data type for an inference\n",
    "xgb_predictor.serializer = csv_serializer # set the serializer type\n",
    "predictions = xgb_predictor.predict(test_data_array).decode('utf-8') # predict!\n",
    "predictions_array = np.fromstring(predictions[1:], sep=',') # and turn the prediction into an array\n",
    "print(predictions_array.shape)"
   ]
  },
  {
   "cell_type": "code",
   "execution_count": 40,
   "id": "aada23a6",
   "metadata": {},
   "outputs": [
    {
     "name": "stdout",
     "output_type": "stream",
     "text": [
      "[0.05214286 0.05660191 0.05096195 ... 0.03436061 0.02942475 0.03715819]\n"
     ]
    }
   ],
   "source": [
    "print(predictions_array)"
   ]
  },
  {
   "cell_type": "code",
   "execution_count": 41,
   "id": "9797cb47",
   "metadata": {},
   "outputs": [
    {
     "name": "stdout",
     "output_type": "stream",
     "text": [
      "\n",
      "Overall Classification Rate: 89.7%\n",
      "\n",
      "Predicted      No Purchase    Purchase\n",
      "Observed\n",
      "No Purchase    91% (10785)    34% (151)\n",
      "Purchase        9% (1124)     66% (297) \n",
      "\n"
     ]
    }
   ],
   "source": [
    "cm = pd.crosstab(index=test_data['y_yes'], columns=np.round(predictions_array), rownames=['Observed'], colnames=['Predicted'])\n",
    "tn = cm.iloc[0,0]; fn = cm.iloc[1,0]; tp = cm.iloc[1,1]; fp = cm.iloc[0,1]; p = (tp+tn)/(tp+tn+fp+fn)*100\n",
    "print(\"\\n{0:<20}{1:<4.1f}%\\n\".format(\"Overall Classification Rate: \", p))\n",
    "print(\"{0:<15}{1:<15}{2:>8}\".format(\"Predicted\", \"No Purchase\", \"Purchase\"))\n",
    "print(\"Observed\")\n",
    "print(\"{0:<15}{1:<2.0f}% ({2:<}){3:>6.0f}% ({4:<})\".format(\"No Purchase\", tn/(tn+fn)*100,tn, fp/(tp+fp)*100, fp))\n",
    "print(\"{0:<16}{1:<1.0f}% ({2:<}){3:>7.0f}% ({4:<}) \\n\".format(\"Purchase\", fn/(tn+fn)*100,fn, tp/(tp+fp)*100, tp))"
   ]
  },
  {
   "cell_type": "markdown",
   "id": "5173a2a7",
   "metadata": {},
   "source": [
    "Deleting The Endpoints"
   ]
  },
  {
   "cell_type": "code",
   "execution_count": 44,
   "id": "11515849",
   "metadata": {},
   "outputs": [],
   "source": [
    "from sagemaker import Session"
   ]
  },
  {
   "cell_type": "code",
   "execution_count": 45,
   "id": "0f3747f4",
   "metadata": {},
   "outputs": [
    {
     "name": "stderr",
     "output_type": "stream",
     "text": [
      "The endpoint attribute has been renamed in sagemaker>=2.\n",
      "See: https://sagemaker.readthedocs.io/en/stable/v2.html for details.\n"
     ]
    },
    {
     "data": {
      "text/plain": [
       "[{'ResponseMetadata': {'RequestId': 'AMGFCE2DE5K256RW',\n",
       "   'HostId': 'NcCQ1C53m8GnwBaf7KLpwhQp5UJU+Xt3rMyijfii1eSU5n6ghkhMDKWC2AoDYLlZAuHFdcc6UrQ=',\n",
       "   'HTTPStatusCode': 200,\n",
       "   'HTTPHeaders': {'x-amz-id-2': 'NcCQ1C53m8GnwBaf7KLpwhQp5UJU+Xt3rMyijfii1eSU5n6ghkhMDKWC2AoDYLlZAuHFdcc6UrQ=',\n",
       "    'x-amz-request-id': 'AMGFCE2DE5K256RW',\n",
       "    'date': 'Sat, 04 Dec 2021 14:43:40 GMT',\n",
       "    'content-type': 'application/xml',\n",
       "    'transfer-encoding': 'chunked',\n",
       "    'server': 'AmazonS3',\n",
       "    'connection': 'close'},\n",
       "   'RetryAttempts': 0},\n",
       "  'Deleted': [{'Key': 'xgboost-as-a-built-in-algo/output/sagemaker-xgboost-2021-12-04-13-06-20-277/rule-output/ProfilerReport-1638623180/profiler-output/profiler-reports/IOBottleneck.json'},\n",
       "   {'Key': 'xgboost-as-a-built-in-algo/output/sagemaker-xgboost-2021-12-04-13-06-20-277/output/model.tar.gz'},\n",
       "   {'Key': 'xgboost-as-a-built-in-algo/output/sagemaker-xgboost-2021-12-04-13-06-20-277/rule-output/ProfilerReport-1638623180/profiler-output/profiler-reports/GPUMemoryIncrease.json'},\n",
       "   {'Key': 'xgboost-as-a-built-in-algo/output/sagemaker-xgboost-2021-12-04-13-06-20-277/profiler-output/system/incremental/2021120413/1638623280.algo-1.json'},\n",
       "   {'Key': 'xgboost-as-a-built-in-algo/output/sagemaker-xgboost-2021-12-04-13-06-20-277/rule-output/ProfilerReport-1638623180/profiler-output/profiler-reports/StepOutlier.json'},\n",
       "   {'Key': 'xgboost-as-a-built-in-algo/output/sagemaker-xgboost-2021-12-04-13-06-20-277/rule-output/ProfilerReport-1638623180/profiler-output/profiler-reports/OverallFrameworkMetrics.json'},\n",
       "   {'Key': 'xgboost-as-a-built-in-algo/output/sagemaker-xgboost-2021-12-04-13-06-20-277/rule-output/ProfilerReport-1638623180/profiler-output/profiler-reports/OverallSystemUsage.json'},\n",
       "   {'Key': 'xgboost-as-a-built-in-algo/output/sagemaker-xgboost-2021-12-04-13-06-20-277/rule-output/ProfilerReport-1638623180/profiler-output/profiler-report.ipynb'},\n",
       "   {'Key': 'xgboost-as-a-built-in-algo/output/sagemaker-xgboost-2021-12-04-13-06-20-277/rule-output/ProfilerReport-1638623180/profiler-output/profiler-reports/MaxInitializationTime.json'},\n",
       "   {'Key': 'xgboost-as-a-built-in-algo/test/test.csv'},\n",
       "   {'Key': 'xgboost-as-a-built-in-algo/output/sagemaker-xgboost-2021-12-04-13-06-20-277/rule-output/ProfilerReport-1638623180/profiler-output/profiler-reports/BatchSize.json'},\n",
       "   {'Key': 'xgboost-as-a-built-in-algo/output/sagemaker-xgboost-2021-12-04-13-06-20-277/rule-output/ProfilerReport-1638623180/profiler-output/profiler-reports/LowGPUUtilization.json'},\n",
       "   {'Key': 'xgboost-as-a-built-in-algo/output/sagemaker-xgboost-2021-12-04-13-06-20-277/rule-output/ProfilerReport-1638623180/profiler-output/profiler-reports/Dataloader.json'},\n",
       "   {'Key': 'xgboost-as-a-built-in-algo/output/sagemaker-xgboost-2021-12-04-13-06-20-277/profiler-output/framework/training_job_end.ts'},\n",
       "   {'Key': 'xgboost-as-a-built-in-algo/train/train.csv'},\n",
       "   {'Key': 'xgboost-as-a-built-in-algo/output/sagemaker-xgboost-2021-12-04-13-06-20-277/rule-output/ProfilerReport-1638623180/profiler-output/profiler-report.html'},\n",
       "   {'Key': 'xgboost-as-a-built-in-algo/output/sagemaker-xgboost-2021-12-04-13-06-20-277/rule-output/ProfilerReport-1638623180/profiler-output/profiler-reports/CPUBottleneck.json'},\n",
       "   {'Key': 'xgboost-as-a-built-in-algo/output/sagemaker-xgboost-2021-12-04-13-06-20-277/rule-output/ProfilerReport-1638623180/profiler-output/profiler-reports/LoadBalancing.json'},\n",
       "   {'Key': 'xgboost-as-a-built-in-algo/output/sagemaker-xgboost-2021-12-04-13-06-20-277/profiler-output/system/incremental/2021120413/1638623340.algo-1.json'},\n",
       "   {'Key': 'xgboost-as-a-built-in-algo/output/sagemaker-xgboost-2021-12-04-13-06-20-277/profiler-output/system/training_job_end.ts'}]}]"
      ]
     },
     "execution_count": 45,
     "metadata": {},
     "output_type": "execute_result"
    }
   ],
   "source": [
    "Session().delete_endpoint(xgb_predictor.endpoint)\n",
    "bucket_to_delete = boto3.resource('s3').Bucket(bucket_name)\n",
    "bucket_to_delete.objects.all().delete()"
   ]
  },
  {
   "cell_type": "code",
   "execution_count": null,
   "id": "3acef6ad",
   "metadata": {},
   "outputs": [],
   "source": []
  }
 ],
 "metadata": {
  "kernelspec": {
   "display_name": "conda_python3",
   "language": "python",
   "name": "conda_python3"
  },
  "language_info": {
   "codemirror_mode": {
    "name": "ipython",
    "version": 3
   },
   "file_extension": ".py",
   "mimetype": "text/x-python",
   "name": "python",
   "nbconvert_exporter": "python",
   "pygments_lexer": "ipython3",
   "version": "3.6.13"
  }
 },
 "nbformat": 4,
 "nbformat_minor": 5
}
